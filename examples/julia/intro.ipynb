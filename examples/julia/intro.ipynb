{
 "cells": [
  {
   "cell_type": "markdown",
   "metadata": {},
   "source": [
    "Adam Duke\n",
    "\n",
    "adamduke@uchicago.edu\n",
    "\n",
    "ADSP 32013 | 2024 Q3\n",
    "\n",
    "University of Chicago\n",
    "\n",
    "# Intro Julia + JuMP"
   ]
  },
  {
   "cell_type": "markdown",
   "metadata": {},
   "source": [
    "#### Dependencies"
   ]
  },
  {
   "cell_type": "code",
   "execution_count": null,
   "metadata": {},
   "outputs": [],
   "source": [
    "# utility modules\n",
    "using Logging\n",
    "\n",
    "# optimizaiton modules\n",
    "import JuMP\n",
    "import GLPK\n",
    "import HiGHS\n",
    "import Gurobi\n",
    "\n",
    "# local modules\n",
    "include(\"modules/ADSP32013/include.jl\")\n",
    "import .ADSP32013"
   ]
  },
  {
   "cell_type": "markdown",
   "metadata": {},
   "source": [
    "#### Global"
   ]
  },
  {
   "cell_type": "markdown",
   "metadata": {},
   "source": [
    "Activate Gurobi License"
   ]
  },
  {
   "cell_type": "code",
   "execution_count": null,
   "metadata": {},
   "outputs": [],
   "source": [
    "if !isdefined(Main, :GRB_ENV)\n",
    "    try\n",
    "        global GRB_ENV = Gurobi.Env()\n",
    "        @info(\"Gurobi license activated\")\n",
    "    catch e\n",
    "        @warn(\"Gurobi license unavailable: \", e)\n",
    "    end\n",
    "else\n",
    "    @info(\"Gurobi license already activated\")\n",
    "end"
   ]
  },
  {
   "cell_type": "markdown",
   "metadata": {},
   "source": [
    "Establish Console Logger"
   ]
  },
  {
   "cell_type": "code",
   "execution_count": null,
   "metadata": {},
   "outputs": [],
   "source": [
    "ConsoleLogger(stdout, Logging.Info) |> global_logger\n",
    "\n",
    "# NullLogger() |> global_logger\n",
    "\n",
    "# io = open(\"log.txt\", \"w+\")\n",
    "# SimpleLogger(io, Logging.Debug) |> global_logger\n",
    "# flush(io)\n",
    "# close(io)"
   ]
  },
  {
   "cell_type": "markdown",
   "metadata": {},
   "source": [
    "#### Problem Statement\n",
    "$$\n",
    "\\begin{align}\n",
    "    \\max\\ & x + y \\\\\n",
    "    s.t.\\ & x + 2y \\le 6 \\\\\n",
    "    & 3x + y \\le 8 \\\\\n",
    "    & x \\ge 0 \\\\\n",
    "    & y \\in [0,2.5]\n",
    "\\end{align}\n",
    "$$\n",
    "\n",
    "https://www.geogebra.org/graphing/qwwmsvad"
   ]
  },
  {
   "cell_type": "markdown",
   "metadata": {},
   "source": [
    "### Approaches"
   ]
  },
  {
   "cell_type": "markdown",
   "metadata": {},
   "source": [
    "#### 1. Naive"
   ]
  },
  {
   "cell_type": "code",
   "execution_count": null,
   "metadata": {},
   "outputs": [],
   "source": [
    "model = JuMP.Model(()->GLPK.Optimizer())\n",
    "# model = JuMP.Model(() -> Gurobi.Optimizer(GRB_ENV))\n",
    "\n",
    "JuMP.@variable(model, x)\n",
    "JuMP.@variable(model, y)\n",
    "\n",
    "JuMP.@constraint(model, x + 2y <= 6)\n",
    "JuMP.@constraint(model, 3x + y <= 8)\n",
    "JuMP.@constraint(model, x >= 0)\n",
    "JuMP.@constraint(model, 0 <= y <= 2.5)\n",
    "\n",
    "JuMP.@objective(model, Max, x + y)\n",
    "\n",
    "JuMP.optimize!(model)\n",
    "\n",
    "print(JuMP.objective_value(model))"
   ]
  },
  {
   "cell_type": "markdown",
   "metadata": {},
   "source": [
    "#### 2. Verbose"
   ]
  },
  {
   "cell_type": "code",
   "execution_count": null,
   "metadata": {},
   "outputs": [],
   "source": [
    "model = JuMP.Model(()->GLPK.Optimizer())\n",
    "# model = JuMP.Model(() -> Gurobi.Optimizer(GRB_ENV))\n",
    "\n",
    "JuMP.@variable(model, x)\n",
    "JuMP.@variable(model, y)\n",
    "\n",
    "JuMP.@constraint(model, x + 2y <= 6)\n",
    "JuMP.@constraint(model, 3x + y <= 8)\n",
    "JuMP.@constraint(model, x >= 0)\n",
    "JuMP.@constraint(model, 0 <= y <= 2.5)\n",
    "\n",
    "JuMP.@objective(model, Max, x + y)\n",
    "\n",
    "@debug(model)\n",
    "\n",
    "JuMP.optimize!(model)\n",
    "\n",
    "if JuMP.is_solved_and_feasible(model, allow_local=false, dual=true)\n",
    "    @debug(\"summary\", JuMP.solution_summary(model))\n",
    "    @info(\"optimum\", JuMP.objective_value(model))\n",
    "    @info(\"solution\", round.(JuMP.value.(JuMP.all_variables(model)), digits=4))\n",
    "else\n",
    "    @error(JuMP.termination_status(model))\n",
    "end"
   ]
  },
  {
   "cell_type": "markdown",
   "metadata": {},
   "source": [
    "#### 3. Concise"
   ]
  },
  {
   "cell_type": "code",
   "execution_count": null,
   "metadata": {},
   "outputs": [],
   "source": [
    "model = JuMP.Model(()->GLPK.Optimizer())\n",
    "# model = JuMP.Model(() -> Gurobi.Optimizer(GRB_ENV))\n",
    "\n",
    "JuMP.@variables(model, begin\n",
    "    x >= 0\n",
    "    0 <= y <= 2.5\n",
    "end)\n",
    "\n",
    "JuMP.@constraints(model, begin\n",
    "    x + 2y <= 6\n",
    "    3x + y <= 8\n",
    "end)\n",
    "\n",
    "JuMP.@objective(model, Max, x + y)\n",
    "\n",
    "@debug(model)\n",
    "\n",
    "JuMP.optimize!(model)\n",
    "\n",
    "ADSP32013.report(model)"
   ]
  },
  {
   "cell_type": "markdown",
   "metadata": {},
   "source": [
    "#### 4. Succinct\n",
    "Original\n",
    "$$\n",
    "\\begin{align}\n",
    "    max&\\\n",
    "    c^Tx &&\\equiv\n",
    "    \\begin{bmatrix}\n",
    "        1 \\\\\n",
    "        1\n",
    "    \\end{bmatrix}^T\n",
    "    \\begin{bmatrix}\n",
    "        x_1 \\\\\n",
    "        x_2\n",
    "    \\end{bmatrix} \\\\\n",
    "    s.t.&\\ Ax \\le b &&\\equiv\n",
    "    \\begin{bmatrix}\n",
    "        1 & 2 \\\\\n",
    "        3 & 1 \\\\\n",
    "    \\end{bmatrix}\n",
    "    \\begin{bmatrix}\n",
    "        x_1 \\\\\n",
    "        x_2\n",
    "    \\end{bmatrix}\n",
    "    \\le\n",
    "    \\begin{bmatrix}\n",
    "        6 \\\\\n",
    "        8 \\\\\n",
    "    \\end{bmatrix} \\\\\n",
    "    & x_1 \\ge 0 \\\\\n",
    "    & x_2 \\in [0,2.5]\n",
    "\\end{align}\n",
    "$$\n",
    "\n",
    "Standardized\n",
    "$$\n",
    "\\begin{align}\n",
    "    min&\\\n",
    "    c^Tx &&\\equiv\n",
    "    \\begin{bmatrix}\n",
    "        -1 \\\\\n",
    "        -1\n",
    "    \\end{bmatrix}^T\n",
    "    \\begin{bmatrix}\n",
    "        x_1 \\\\\n",
    "        x_2\n",
    "    \\end{bmatrix} \\\\\n",
    "    s.t.&\\ Ax \\le b &&\\equiv\n",
    "    \\begin{bmatrix}\n",
    "        1 & 2 \\\\\n",
    "        3 & 1 \\\\\n",
    "        0 & 1\n",
    "    \\end{bmatrix}\n",
    "    \\begin{bmatrix}\n",
    "        x_1 \\\\\n",
    "        x_2\n",
    "    \\end{bmatrix}\n",
    "    \\le\n",
    "    \\begin{bmatrix}\n",
    "        6 \\\\\n",
    "        8 \\\\\n",
    "        2.5\n",
    "    \\end{bmatrix}\\\\\n",
    "    & x \\ge 0 \\\\\n",
    "\\end{align}\n",
    "$$"
   ]
  },
  {
   "cell_type": "code",
   "execution_count": null,
   "metadata": {},
   "outputs": [],
   "source": [
    "A = [1 2; 3 1; 0 1]\n",
    "b = [6; 8; 2.5]\n",
    "c = [-1; -1]\n",
    "\n",
    "ADSP32013.standard_setup(A, b, c) |> ADSP32013.report\n",
    "# ADSP32013.standard_setup(A, b, c, ()->Gurobi.Optimizer(GRB_ENV)) |> ADSP32013.report"
   ]
  },
  {
   "cell_type": "markdown",
   "metadata": {},
   "source": [
    "Preprocessed\n",
    "$$\n",
    "\\begin{align}\n",
    "    min&\\\n",
    "    c^Tx &&\\equiv\n",
    "    \\begin{bmatrix}\n",
    "        -1 \\\\\n",
    "        -1 \\\\\n",
    "        0 \\\\\n",
    "        0 \\\\\n",
    "        0\n",
    "    \\end{bmatrix}^T\n",
    "    \\begin{bmatrix}\n",
    "        x_1 \\\\\n",
    "        x_2 \\\\\n",
    "        s_1 \\\\\n",
    "        s_2 \\\\\n",
    "        s_3\n",
    "    \\end{bmatrix} \\\\\n",
    "    s.t.&\\ Ax = b &&\\equiv\n",
    "    \\begin{bmatrix}\n",
    "        1 & 2 & 1 & 0 & 0 \\\\\n",
    "        3 & 1 & 0 & 1 & 0 \\\\\n",
    "        0 & 1 & 0 & 0 & 1\n",
    "    \\end{bmatrix}\n",
    "    \\begin{bmatrix}\n",
    "        x_1 \\\\\n",
    "        x_2 \\\\\n",
    "        s_1 \\\\\n",
    "        s_2 \\\\\n",
    "        s_3\n",
    "    \\end{bmatrix}\n",
    "    =\n",
    "    \\begin{bmatrix}\n",
    "        6 \\\\\n",
    "        8 \\\\\n",
    "        2.5\n",
    "    \\end{bmatrix}\\\\\n",
    "    & x \\ge 0 \\\\\n",
    "    & s \\ge 0\n",
    "\\end{align}\n",
    "$$"
   ]
  },
  {
   "cell_type": "code",
   "execution_count": null,
   "metadata": {},
   "outputs": [],
   "source": [
    "A = [\n",
    "        1 2 1 0 0; \n",
    "        3 1 0 1 0; \n",
    "        0 1 0 0 1;\n",
    "    ]\n",
    "b = [6; 8; 2.5]\n",
    "c = [-1; -1; 0; 0; 0]\n",
    "\n",
    "ADSP32013.standard_setup(A, b, c) |> ADSP32013.report\n",
    "# ADSP32013.standard_setup(A, b, c, ()->Gurobi.Optimizer(GRB_ENV)) |> ADSP32013.report"
   ]
  }
 ],
 "metadata": {
  "kernelspec": {
   "display_name": "Julia 1.6.7",
   "language": "julia",
   "name": "julia-1.6"
  },
  "language_info": {
   "file_extension": ".jl",
   "mimetype": "application/julia",
   "name": "julia",
   "version": "1.6.7"
  }
 },
 "nbformat": 4,
 "nbformat_minor": 2
}
