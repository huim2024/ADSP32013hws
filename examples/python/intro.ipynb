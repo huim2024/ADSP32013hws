{
 "cells": [
  {
   "cell_type": "markdown",
   "metadata": {},
   "source": [
    "Adam Duke\n",
    "\n",
    "adamduke@uchicago.edu\n",
    "\n",
    "ADSP 32013 | 2024 Q3\n",
    "\n",
    "University of Chicago\n",
    "\n",
    "# Intro Python + ORTools"
   ]
  },
  {
   "cell_type": "markdown",
   "metadata": {},
   "source": [
    "#### Dependencies"
   ]
  },
  {
   "cell_type": "code",
   "execution_count": null,
   "metadata": {},
   "outputs": [],
   "source": [
    "import numpy as np\n",
    "import pandas as pd\n",
    "import gurobipy\n",
    "from ortools.linear_solver import pywraplp"
   ]
  },
  {
   "cell_type": "markdown",
   "metadata": {},
   "source": [
    "#### Problem Statement\n",
    "$$\n",
    "\\begin{align}\n",
    "    \\max\\ & x + y \\\\\n",
    "    s.t.\\ & x + 2y \\le 6 \\\\\n",
    "    & 3x + y \\le 8 \\\\\n",
    "    & x \\ge 0 \\\\\n",
    "    & y \\in [0,2.5]\n",
    "\\end{align}\n",
    "$$\n",
    "\n",
    "https://www.geogebra.org/graphing/qwwmsvad"
   ]
  },
  {
   "cell_type": "markdown",
   "metadata": {},
   "source": [
    "### Approaches"
   ]
  },
  {
   "cell_type": "markdown",
   "metadata": {},
   "source": [
    "#### 1. Naive\n",
    "\n",
    "[omitted]\n",
    "\n",
    "#### 2. Verbose"
   ]
  },
  {
   "cell_type": "code",
   "execution_count": null,
   "metadata": {},
   "outputs": [],
   "source": [
    "solver = pywraplp.Solver.CreateSolver('SCIP')\n",
    "# solver = pywraplp.Solver.CreateSolver(\"GUROBI\")\n",
    "\n",
    "x = [\n",
    "    solver.NumVar(0, solver.infinity(), \"x0\"),\n",
    "    solver.NumVar(0, 2.5, \"x1\")\n",
    "]\n",
    "\n",
    "solver.Add(x[0] + 2*x[1] <= 6)\n",
    "solver.Add(3*x[0] + x[1] <= 8)\n",
    "\n",
    "solver.Maximize(sum(x))\n",
    "\n",
    "status = solver.Solve()\n",
    "\n",
    "summary = {\"value\": None, \"solution\": None}\n",
    "if status == pywraplp.Solver.OPTIMAL:\n",
    "    summary[\"value\"] = solver.Objective().Value()\n",
    "    summary[\"solution\"] = [xi.solution_value() for xi in x if xi.solution_value()]\n",
    "\n",
    "[print(f\"{k}: {np.round(v,4)}\") for k,v in summary.items()];"
   ]
  },
  {
   "cell_type": "markdown",
   "metadata": {},
   "source": [
    "#### 3. Concise\n",
    "\n",
    "[omitted]\n",
    "\n",
    "#### 4. Succint\n",
    "\n",
    "[omitted]"
   ]
  }
 ],
 "metadata": {
  "kernelspec": {
   "display_name": "pyenv",
   "language": "python",
   "name": "python3"
  },
  "language_info": {
   "codemirror_mode": {
    "name": "ipython",
    "version": 3
   },
   "file_extension": ".py",
   "mimetype": "text/x-python",
   "name": "python",
   "nbconvert_exporter": "python",
   "pygments_lexer": "ipython3",
   "version": "3.12.3"
  }
 },
 "nbformat": 4,
 "nbformat_minor": 2
}
